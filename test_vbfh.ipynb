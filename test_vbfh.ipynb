{
 "cells": [
  {
   "cell_type": "code",
   "execution_count": 15,
   "id": "ebb657d9",
   "metadata": {},
   "outputs": [
    {
     "name": "stdout",
     "output_type": "stream",
     "text": [
      "Number of WCs: 6, number of quadratic terms: 28\n",
      "(21, 6)\n",
      "(21, 21)\n",
      "(21, 50000)\n"
     ]
    },
    {
     "data": {
      "text/plain": [
       "VBFHDataset(\n",
       "  observables=f32[50000,15],\n",
       "  gen_parameters=f32[6],\n",
       "  latent_data=f32[50000,21],\n",
       "  latent_norm=f32[21]\n",
       ")"
      ]
     },
     "execution_count": 15,
     "metadata": {},
     "output_type": "execute_result"
    }
   ],
   "source": [
    "import jax.numpy as jnp\n",
    "from event2vec.datasets import VBFHDataset\n",
    "\n",
    "data = VBFHDataset.from_lhe(\"data/smeftsim_VBFH-*.lhe.gz\")\n",
    "data"
   ]
  },
  {
   "cell_type": "code",
   "execution_count": null,
   "id": "5b0345af",
   "metadata": {},
   "outputs": [],
   "source": [
    "import matplotlib.pyplot as plt\n",
    "\n",
    "bins = jnp.linspace(0, 1000, 50)\n",
    "plt.hist(data.observables[:, -3], bins=bins, histtype=\"step\")\n",
    "plt.yscale(\"log\")\n",
    "\n",
    "# [\"cSM\", \"cHbox\", \"cHDD\", \"cHW\", \"cHB\", \"cHWB\"]\n",
    "param = jnp.array([1.0, 0.0, 0.0, 1.0, 0.0, 0.0])\n",
    "\n",
    "plt.hist(\n",
    "    data.observables[:, -3],\n",
    "    weights=data.weight(param),\n",
    "    bins=bins,\n",
    "    histtype=\"step\",\n",
    ");"
   ]
  },
  {
   "cell_type": "code",
   "execution_count": null,
   "id": "af1157e8",
   "metadata": {},
   "outputs": [],
   "source": []
  }
 ],
 "metadata": {
  "kernelspec": {
   "display_name": ".venv",
   "language": "python",
   "name": "python3"
  },
  "language_info": {
   "codemirror_mode": {
    "name": "ipython",
    "version": 3
   },
   "file_extension": ".py",
   "mimetype": "text/x-python",
   "name": "python",
   "nbconvert_exporter": "python",
   "pygments_lexer": "ipython3",
   "version": "3.13.2"
  }
 },
 "nbformat": 4,
 "nbformat_minor": 5
}
