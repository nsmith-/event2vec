{
 "cells": [
  {
   "cell_type": "code",
   "execution_count": null,
   "id": "72df3915",
   "metadata": {},
   "outputs": [],
   "source": [
    "import jax\n",
    "import jax.numpy as jnp\n",
    "import matplotlib.pyplot as plt\n",
    "from matplotlib.colors import LogNorm\n",
    "\n",
    "def diag(ax):\n",
    "    return ax.plot([0, 1], [0, 1], color=\"grey\", linestyle=\"--\", transform=ax.transAxes)"
   ]
  },
  {
   "cell_type": "code",
   "execution_count": null,
   "id": "96e697f8",
   "metadata": {},
   "outputs": [],
   "source": [
    "from event2vec.experiment import run_experiment\n",
    "from event2vec.datasets import GaussMixtureDatasetFactory\n",
    "from event2vec.model import E2VMLPConfig\n",
    "from event2vec.prior import DirichletParameterPrior, UncorrelatedJointPrior\n",
    "from event2vec.training import TrainingConfig\n",
    "from event2vec.loss import BCELoss, MSELoss\n",
    "\n",
    "key = jax.random.PRNGKey(42)\n",
    "\n",
    "gen_param_prior = DirichletParameterPrior(alpha=jnp.array([9.0, 3.0, 3.0]))\n",
    "train_param_prior = gen_param_prior\n",
    "data_factory = GaussMixtureDatasetFactory(\n",
    "    len=200_000,\n",
    "    param_prior=gen_param_prior,\n",
    ")\n",
    "model_config = E2VMLPConfig(\n",
    "    event_dim=2,\n",
    "    param_dim=3,\n",
    "    summary_dim=2,\n",
    "    hidden_size=4,\n",
    "    depth=3,\n",
    ")\n",
    "train_config = TrainingConfig(\n",
    "    test_fraction=0.1,\n",
    "    batch_size=128,\n",
    "    learning_rate=0.005,\n",
    "    epochs=1_000,\n",
    "    loss_fn=BCELoss(UncorrelatedJointPrior(gen_param_prior)),\n",
    ")\n",
    "model, data, loss_train, loss_test = run_experiment(\n",
    "    data_factory, model_config, train_config, key=key\n",
    ")\n"
   ]
  },
  {
   "cell_type": "code",
   "execution_count": null,
   "id": "952ae17d",
   "metadata": {},
   "outputs": [],
   "source": [
    "fig, ax = plt.subplots()\n",
    "\n",
    "ax.plot(loss_train, label=\"train loss\")\n",
    "ax.plot(loss_test, label=\"test loss\")\n",
    "ax.set_xlabel(\"Epoch\")\n",
    "ax.set_ylabel(\"Loss\")\n",
    "ax.legend()"
   ]
  },
  {
   "cell_type": "code",
   "execution_count": null,
   "id": "be3d5cb7",
   "metadata": {},
   "outputs": [],
   "source": [
    "fig, ax = plt.subplots()\n",
    "\n",
    "param_1 = jnp.broadcast_to(jnp.array([0.9, 0.1, 0.0]), (len(data), 3))\n",
    "\n",
    "llr_pred = jax.vmap(model.llr_pred)(\n",
    "    data.observables, data.gen_parameters, param_1\n",
    ")\n",
    "llr_true = jnp.log(data.likelihood(param_1)) - jnp.log(\n",
    "    data.likelihood(data.gen_parameters)\n",
    ")\n",
    "amin = min(jnp.min(llr_pred).item(), jnp.min(llr_true).item())\n",
    "amax = max(jnp.max(llr_pred).item(), jnp.max(llr_true).item())\n",
    "ax.set_xlim(amin, amax)\n",
    "ax.set_ylim(amin, amax)\n",
    "ax.set_aspect(\"equal\")\n",
    "\n",
    "diag(ax)\n",
    "ax.scatter(llr_pred, llr_true, s=1)\n",
    "ax.set_xlabel(\"Predicted LLR\")\n",
    "ax.set_ylabel(\"True LLR\")"
   ]
  },
  {
   "cell_type": "code",
   "execution_count": null,
   "id": "ef508f1e-ac1f-4e93-9630-710361823cb6",
   "metadata": {},
   "outputs": [],
   "source": [
    "fig, ax = plt.subplots()\n",
    "\n",
    "param_1 = jnp.broadcast_to(jnp.array([0.9, 0.1, 0.0]), (len(data), 3))\n",
    "\n",
    "llr_pred = jax.vmap(model.llr_pred)(\n",
    "    data.observables, data.gen_parameters, param_1\n",
    ")\n",
    "llr_true = jnp.log(data.likelihood(param_1)) - jnp.log(\n",
    "    data.likelihood(data.gen_parameters)\n",
    ")\n",
    "amin = min(jnp.min(llr_pred).item(), jnp.min(llr_true).item())\n",
    "amax = max(jnp.max(llr_pred).item(), jnp.max(llr_true).item())\n",
    "ax.set_xlim(amin, amax)\n",
    "ax.set_ylim(amin, amax)\n",
    "ax.set_aspect(\"equal\")\n",
    "\n",
    "\n",
    "ax.hist2d(llr_pred, llr_true, bins=75, range=((amin, amax), (amin, amax)), rasterized=True, norm=LogNorm())\n",
    "diag(ax)\n",
    "ax.set_xlabel(\"Predicted LLR\")\n",
    "ax.set_ylabel(\"True LLR\")"
   ]
  },
  {
   "cell_type": "code",
   "execution_count": null,
   "id": "b0ce0212",
   "metadata": {},
   "outputs": [],
   "source": [
    "x1 = jnp.linspace(-4, 4, 26)\n",
    "x2 = jnp.linspace(-4, 4, 26)\n",
    "\n",
    "x1, x2 = jnp.meshgrid(x1, x2)\n",
    "x1 = x1.flatten()\n",
    "x2 = x2.flatten()\n",
    "x = jnp.stack([x1, x2], axis=-1)\n",
    "\n",
    "summary = jax.vmap(model.event_summary_model)(x)\n",
    "\n",
    "fig, ax = plt.subplots()\n",
    "ax.quiver(x1, x2, summary[:,0], summary[:,1])\n",
    "ax.set_aspect('equal')\n",
    "\n",
    "ax.set_xlim(-4, 4)\n",
    "ax.set_ylim(-4, 4)"
   ]
  },
  {
   "cell_type": "code",
   "execution_count": null,
   "id": "0a2051ac",
   "metadata": {},
   "outputs": [],
   "source": []
  }
 ],
 "metadata": {
  "kernelspec": {
   "display_name": ".venv",
   "language": "python",
   "name": "python3"
  },
  "language_info": {
   "codemirror_mode": {
    "name": "ipython",
    "version": 3
   },
   "file_extension": ".py",
   "mimetype": "text/x-python",
   "name": "python",
   "nbconvert_exporter": "python",
   "pygments_lexer": "ipython3",
   "version": "3.13.2"
  },
  "widgets": {
   "application/vnd.jupyter.widget-state+json": {
    "state": {
     "729d63e0ac00466ab6bc82946e2d2193": {
      "model_module": "@jupyter-widgets/base",
      "model_module_version": "2.0.0",
      "model_name": "LayoutModel",
      "state": {}
     },
     "b599b937c8c14a578272147b3c53a31c": {
      "model_module": "@jupyter-widgets/output",
      "model_module_version": "1.0.0",
      "model_name": "OutputModel",
      "state": {
       "layout": "IPY_MODEL_729d63e0ac00466ab6bc82946e2d2193",
       "outputs": [
        {
         "data": {
          "text/html": "<pre style=\"white-space:pre;overflow-x:auto;line-height:normal;font-family:Menlo,'DejaVu Sans Mono',consolas,'Courier New',monospace\">Training <span style=\"color: #729c1f; text-decoration-color: #729c1f\">━━━━━━━━━━━━━━━━━━━━━━━━━━━━━━━━━━━━━━━━</span> <span style=\"color: #800080; text-decoration-color: #800080\">100%</span> <span style=\"color: #808000; text-decoration-color: #808000\">0:10:50</span>\n</pre>\n",
          "text/plain": "Training \u001b[38;2;114;156;31m━━━━━━━━━━━━━━━━━━━━━━━━━━━━━━━━━━━━━━━━\u001b[0m \u001b[35m100%\u001b[0m \u001b[33m0:10:50\u001b[0m\n"
         },
         "metadata": {},
         "output_type": "display_data"
        }
       ]
      }
     }
    },
    "version_major": 2,
    "version_minor": 0
   }
  }
 },
 "nbformat": 4,
 "nbformat_minor": 5
}
