{
 "cells": [
  {
   "cell_type": "code",
   "execution_count": null,
   "id": "1ee418b5",
   "metadata": {},
   "outputs": [],
   "source": [
    "import jax\n",
    "import jax.numpy as jnp\n",
    "import matplotlib.pyplot as plt\n",
    "from matplotlib.colors import LogNorm\n",
    "import equinox as eqx\n",
    "\n",
    "\n",
    "def diag(ax):\n",
    "    return ax.plot([0, 1], [0, 1], color=\"grey\", linestyle=\"--\", transform=ax.transAxes)"
   ]
  },
  {
   "cell_type": "code",
   "execution_count": null,
   "id": "d70c64b9",
   "metadata": {},
   "outputs": [],
   "source": [
    "from event2vec.datasets import DY1JDataset\n",
    "\n",
    "data = DY1JDataset.from_lhe(\"data/dy1j.lhe.gz\", extended_likelihood=True)\n",
    "data"
   ]
  },
  {
   "cell_type": "code",
   "execution_count": null,
   "id": "633fede0",
   "metadata": {},
   "outputs": [],
   "source": [
    "from event2vec.experiment import run_experiment\n",
    "from event2vec.model import E2VMLPConfig\n",
    "from event2vec.prior import NormalParameterPrior, UncorrelatedJointPrior\n",
    "from event2vec.training import TrainingConfig\n",
    "from event2vec.loss import BCELoss, MSELoss\n",
    "\n",
    "key = jax.random.PRNGKey(42)\n",
    "\n",
    "\n",
    "def data_factory(key):\n",
    "    return data\n",
    "\n",
    "\n",
    "prior = UncorrelatedJointPrior(\n",
    "    prior=NormalParameterPrior(\n",
    "        mean=jnp.zeros(2),\n",
    "        cov=jnp.eye(2) * 0.1,\n",
    "    )\n",
    ")\n",
    "model_config = E2VMLPConfig(\n",
    "    event_dim=data.observables.shape[1],\n",
    "    param_dim=2,\n",
    "    summary_dim=2,\n",
    "    hidden_size=16,\n",
    "    depth=3,\n",
    ")\n",
    "train_config = TrainingConfig(\n",
    "    test_fraction=0.1,\n",
    "    batch_size=128,\n",
    "    learning_rate=0.005,\n",
    "    epochs=2000,\n",
    "    loss_fn=MSELoss(parameter_prior=prior),\n",
    ")\n",
    "\n",
    "# jax.config.update(\"jax_debug_nans\", True)\n",
    "\n",
    "model, data, loss_train, loss_test = run_experiment(\n",
    "    data_factory, model_config, train_config, key=key\n",
    ")\n"
   ]
  },
  {
   "cell_type": "code",
   "execution_count": null,
   "id": "79dd32c8",
   "metadata": {},
   "outputs": [],
   "source": [
    "fig, ax = plt.subplots()\n",
    "\n",
    "ax.plot(loss_train, label=\"train loss\")\n",
    "ax.plot(loss_test, label=\"test loss\")\n",
    "ax.set_xlabel(\"Epoch\")\n",
    "ax.set_ylabel(\"Loss\")\n",
    "ax.legend()"
   ]
  },
  {
   "cell_type": "code",
   "execution_count": null,
   "id": "f97fbfa8",
   "metadata": {},
   "outputs": [],
   "source": [
    "fig, ax = plt.subplots()\n",
    "\n",
    "# param_1 = jnp.broadcast_to(jnp.array([0.01, 0.01]), (len(data), 2))\n",
    "# param_0 = data.gen_parameters\n",
    "\n",
    "key = jax.random.PRNGKey(0)\n",
    "param_0, param_1 = jax.vmap(prior.sample)(key=jax.random.split(key, len(data)))\n",
    "\n",
    "llr_pred = jax.vmap(model.llr_pred)(data.observables, param_0, param_1)\n",
    "llr_true = jnp.log(data.likelihood(param_1)) - jnp.log(data.likelihood(param_0))\n",
    "\n",
    "amin = min(jnp.min(llr_pred).item(), jnp.min(llr_true).item())\n",
    "amax = max(jnp.max(llr_pred).item(), jnp.max(llr_true).item())\n",
    "ax.set_xlim(amin, amax)\n",
    "ax.set_ylim(amin, amax)\n",
    "ax.set_aspect(\"equal\")\n",
    "\n",
    "diag(ax)\n",
    "ax.scatter(llr_pred, llr_true, s=1)\n",
    "ax.set_xlabel(\"Predicted LLR\")\n",
    "ax.set_ylabel(\"True LLR\")"
   ]
  },
  {
   "cell_type": "code",
   "execution_count": null,
   "id": "51e26b99",
   "metadata": {},
   "outputs": [],
   "source": [
    "fig, ax = plt.subplots()\n",
    "\n",
    "# param_1 = jnp.broadcast_to(jnp.array([0.01, 0.01]), (len(data), 2))\n",
    "# param_0 = data.gen_parameters\n",
    "\n",
    "key = jax.random.PRNGKey(0)\n",
    "param_0, param_1 = jax.vmap(prior.sample)(key=jax.random.split(key, len(data)))\n",
    "\n",
    "llr_pred = jax.vmap(model.llr_pred)(data.observables, param_0, param_1)\n",
    "llr_true = jnp.log(data.likelihood(param_1)) - jnp.log(data.likelihood(param_0))\n",
    "\n",
    "amin = min(jnp.min(llr_pred).item(), jnp.min(llr_true).item())\n",
    "amax = max(jnp.max(llr_pred).item(), jnp.max(llr_true).item())\n",
    "ax.set_xlim(amin, amax)\n",
    "ax.set_ylim(amin, amax)\n",
    "ax.set_aspect(\"equal\")\n",
    "\n",
    "rang = [amin, amax]\n",
    "rang = [-10, 10]\n",
    "\n",
    "ax.hist2d(\n",
    "    llr_pred, llr_true, bins=75, range=(rang, rang), rasterized=True, norm=LogNorm()\n",
    ")\n",
    "diag(ax)\n",
    "ax.set_xlabel(\"Predicted LLR\")\n",
    "ax.set_ylabel(\"True LLR\")\n",
    "\n",
    "plt.savefig(\"physics-example.pdf\", bbox_inches=\"tight\")"
   ]
  },
  {
   "cell_type": "code",
   "execution_count": null,
   "id": "deff56ac",
   "metadata": {},
   "outputs": [],
   "source": [
    "latent = data.latent_data[::10] / data.latent_norm\n",
    "summary = jax.vmap(model.event_summary_model)(data.observables[::10])\n",
    "\n",
    "fig, ax = plt.subplots()\n",
    "ax.quiver(latent[:, 0], latent[:, 1], summary[:, 0], summary[:, 1], scale=50, alpha=0.5)\n",
    "# ax.set_xlim(0.93, 0.96)\n",
    "# ax.set_ylim(0.5, 1)"
   ]
  },
  {
   "cell_type": "code",
   "execution_count": null,
   "id": "bc2f71aa",
   "metadata": {},
   "outputs": [],
   "source": [
    "plt.hist2d(latent[:, 0], latent[:, 1], bins=50, norm=LogNorm());"
   ]
  },
  {
   "cell_type": "code",
   "execution_count": null,
   "id": "5ea516b2",
   "metadata": {},
   "outputs": [],
   "source": [
    "plt.hist2d(summary[:, 0], summary[:, 1], bins=50, norm=LogNorm());"
   ]
  },
  {
   "cell_type": "code",
   "execution_count": null,
   "id": "78429a7b",
   "metadata": {},
   "outputs": [],
   "source": [
    "plt.imshow(jnp.cov(summary.T));"
   ]
  },
  {
   "cell_type": "code",
   "execution_count": null,
   "id": "5de80997",
   "metadata": {},
   "outputs": [],
   "source": [
    "jax.vmap(model.param_projection_model)(jnp.eye(2)), model.param_projection_model(jnp.zeros(2))"
   ]
  },
  {
   "cell_type": "code",
   "execution_count": null,
   "id": "c4e44fa8",
   "metadata": {},
   "outputs": [],
   "source": [
    "jax.vmap(model.param_projection_model)(jnp.eye(2) * 1.)"
   ]
  },
  {
   "cell_type": "code",
   "execution_count": null,
   "id": "a498de00",
   "metadata": {},
   "outputs": [],
   "source": []
  }
 ],
 "metadata": {
  "kernelspec": {
   "display_name": ".venv",
   "language": "python",
   "name": "python3"
  },
  "language_info": {
   "codemirror_mode": {
    "name": "ipython",
    "version": 3
   },
   "file_extension": ".py",
   "mimetype": "text/x-python",
   "name": "python",
   "nbconvert_exporter": "python",
   "pygments_lexer": "ipython3",
   "version": "3.13.2"
  },
  "widgets": {
   "application/vnd.jupyter.widget-state+json": {
    "state": {
     "016189bd3608463ba91db20d3b125817": {
      "model_module": "@jupyter-widgets/output",
      "model_module_version": "1.0.0",
      "model_name": "OutputModel",
      "state": {
       "layout": "IPY_MODEL_51eede8ba1bd439980307379b56dd958",
       "outputs": [
        {
         "data": {
          "text/html": "<pre style=\"white-space:pre;overflow-x:auto;line-height:normal;font-family:Menlo,'DejaVu Sans Mono',consolas,'Courier New',monospace\">Training <span style=\"color: #729c1f; text-decoration-color: #729c1f\">━━━━━━━━━━━━━━━━━━━━━━━━━━━━━━━━━━━━━━━━</span> <span style=\"color: #800080; text-decoration-color: #800080\">100%</span> <span style=\"color: #808000; text-decoration-color: #808000\">0:04:21</span>\n</pre>\n",
          "text/plain": "Training \u001b[38;2;114;156;31m━━━━━━━━━━━━━━━━━━━━━━━━━━━━━━━━━━━━━━━━\u001b[0m \u001b[35m100%\u001b[0m \u001b[33m0:04:21\u001b[0m\n"
         },
         "metadata": {},
         "output_type": "display_data"
        }
       ]
      }
     },
     "51eede8ba1bd439980307379b56dd958": {
      "model_module": "@jupyter-widgets/base",
      "model_module_version": "2.0.0",
      "model_name": "LayoutModel",
      "state": {}
     }
    },
    "version_major": 2,
    "version_minor": 0
   }
  }
 },
 "nbformat": 4,
 "nbformat_minor": 5
}
